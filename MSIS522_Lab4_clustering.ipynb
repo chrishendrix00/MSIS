{
  "nbformat": 4,
  "nbformat_minor": 0,
  "metadata": {
    "kernelspec": {
      "display_name": "Python 3",
      "language": "python",
      "name": "python3"
    },
    "language_info": {
      "codemirror_mode": {
        "name": "ipython",
        "version": 3
      },
      "file_extension": ".py",
      "mimetype": "text/x-python",
      "name": "python",
      "nbconvert_exporter": "python",
      "pygments_lexer": "ipython3",
      "version": "3.6.3"
    },
    "colab": {
      "name": "MSIS522_Lab4_clustering.ipynb",
      "provenance": [],
      "collapsed_sections": [],
      "include_colab_link": true
    }
  },
  "cells": [
    {
      "cell_type": "markdown",
      "metadata": {
        "id": "view-in-github",
        "colab_type": "text"
      },
      "source": [
        "<a href=\"https://colab.research.google.com/github/chrishendrix00/MSIS/blob/master/MSIS522_Lab4_clustering.ipynb\" target=\"_parent\"><img src=\"https://colab.research.google.com/assets/colab-badge.svg\" alt=\"Open In Colab\"/></a>"
      ]
    },
    {
      "cell_type": "markdown",
      "metadata": {
        "id": "3OwrnEEuWyJN",
        "colab_type": "text"
      },
      "source": [
        "# Clustering\n",
        "\n",
        "Clustering algorithms seek to learn, from the properties of the data, an optimal division or discrete labeling of groups of points.\n",
        "\n",
        "Many clustering algorithms are available in Scikit-Learn and elsewhere, but perhaps the simplest to understand is an algorithm known as k-means clustering, which is implemented in sklearn.cluster.KMeans."
      ]
    },
    {
      "cell_type": "code",
      "metadata": {
        "id": "qm3quwXZWyJQ",
        "colab_type": "code",
        "colab": {}
      },
      "source": [
        "%matplotlib inline\n",
        "import numpy as np\n",
        "import matplotlib.pyplot as plt\n",
        "import seaborn as sns\n",
        "sns.set()"
      ],
      "execution_count": null,
      "outputs": []
    },
    {
      "cell_type": "markdown",
      "metadata": {
        "id": "LA4ZXlF2WyJU",
        "colab_type": "text"
      },
      "source": [
        "The *k*-means algorithm searches for a pre-determined number of clusters within an unlabeled multidimensional dataset.\n",
        "It accomplishes this using a simple conception of what the optimal clustering looks like:\n",
        "\n",
        "- The \"cluster center\" is the arithmetic mean of all the points belonging to the cluster.\n",
        "- Each point is closer to its own cluster center than to other cluster centers."
      ]
    },
    {
      "cell_type": "code",
      "metadata": {
        "id": "TZYbPxulWyJV",
        "colab_type": "code",
        "colab": {
          "base_uri": "https://localhost:8080/",
          "height": 285
        },
        "outputId": "b0d4738c-e7df-4cbd-84d2-ef2c096b050f"
      },
      "source": [
        "from sklearn.datasets.samples_generator import make_blobs\n",
        "X, y_true = make_blobs(n_samples=300, centers=4, cluster_std=0.6, random_state=1)\n",
        "plt.scatter(X[:, 0], X[:, 1], s=50)"
      ],
      "execution_count": null,
      "outputs": [
        {
          "output_type": "execute_result",
          "data": {
            "text/plain": [
              "<matplotlib.collections.PathCollection at 0x7f020a71b240>"
            ]
          },
          "metadata": {
            "tags": []
          },
          "execution_count": 9
        },
        {
          "output_type": "display_data",
          "data": {
            "image/png": "[encoded data removed]",
            "text/plain": [
              "<Figure size 432x288 with 1 Axes>"
            ]
          },
          "metadata": {
            "tags": []
          }
        }
      ]
    },
    {
      "cell_type": "markdown",
      "metadata": {
        "id": "hnaV7io6WyJZ",
        "colab_type": "text"
      },
      "source": [
        "By eye, it is relatively easy to pick out the four clusters.\n",
        "The *k*-means algorithm does this automatically, and in Scikit-Learn uses the typical estimator API:\n",
        "\n",
        "**TODO: use [kmeans](https://scikit-learn.org/stable/modules/generated/sklearn.cluster.KMeans.html) in Scikit-learn API to cluster this dataset.**"
      ]
    },
    {
      "cell_type": "code",
      "metadata": {
        "id": "YXvoTel_WyJZ",
        "colab_type": "code",
        "colab": {}
      },
      "source": [
        "from sklearn.cluster import KMeans\n",
        "\n",
        "# TODO\n",
        "\n",
        "model = "
      ],
      "execution_count": null,
      "outputs": []
    },
    {
      "cell_type": "markdown",
      "metadata": {
        "id": "BJ78wkutWyJd",
        "colab_type": "text"
      },
      "source": [
        "Let's visualize the results by plotting the data colored by these labels.\n",
        "We will also plot the cluster centers as determined by the *k*-means estimator:\n",
        "\n",
        "**TODO: scatter plot the cluster center.**"
      ]
    },
    {
      "cell_type": "code",
      "metadata": {
        "id": "jy2vK8x2WyJd",
        "colab_type": "code",
        "colab": {}
      },
      "source": [
        "# TODO\n"
      ],
      "execution_count": null,
      "outputs": []
    },
    {
      "cell_type": "markdown",
      "metadata": {
        "id": "1FcMaWILWyJh",
        "colab_type": "text"
      },
      "source": [
        "The good news is that the k-means algorithm (at least in this simple case) assigns the points to clusters very similarly to how we might assign them by eye. But you might wonder how this algorithm finds these clusters so quickly! After all, the number of possible combinations of cluster assignments is exponential in the number of data points—an exhaustive search would be very, very costly. Fortunately for us, such an exhaustive search is not necessary: instead, the typical approach to k-means involves an intuitive iterative approach known as expectation–maximization.\n",
        "\n"
      ]
    },
    {
      "cell_type": "markdown",
      "metadata": {
        "id": "sZtZUdWwWyJh",
        "colab_type": "text"
      },
      "source": [
        "### Hierarchical Clustering\n",
        "**TODO: apply hierarchical clustering to cluster this dataset using [AgglomerativeClustering](https://scikit-learn.org/stable/modules/generated/sklearn.cluster.AgglomerativeClustering.html) and then generate the scatter plot of the clustering results.**"
      ]
    },
    {
      "cell_type": "code",
      "metadata": {
        "id": "X7mofIVzWyJj",
        "colab_type": "code",
        "colab": {}
      },
      "source": [
        "from sklearn.cluster import AgglomerativeClustering\n",
        "\n",
        "# TODO"
      ],
      "execution_count": null,
      "outputs": []
    },
    {
      "cell_type": "markdown",
      "metadata": {
        "id": "iWyxj5awWyJm",
        "colab_type": "text"
      },
      "source": [
        "**TODO: Generate the dendrogram using [dendrogram](https://docs.scipy.org/doc/scipy-0.14.0/reference/generated/scipy.cluster.hierarchy.dendrogram.html) function and [linkage](https://docs.scipy.org/doc/scipy/reference/generated/scipy.cluster.hierarchy.linkage.html) function for this dataset. Can you tell what's the right number of clusters from the dendrogram?**"
      ]
    },
    {
      "cell_type": "code",
      "metadata": {
        "id": "DR_YwPmkWyJm",
        "colab_type": "code",
        "colab": {}
      },
      "source": [
        "import scipy.cluster.hierarchy as shc\n",
        "\n",
        "# TODO"
      ],
      "execution_count": null,
      "outputs": []
    },
    {
      "cell_type": "markdown",
      "metadata": {
        "id": "yLM65y6JWyJp",
        "colab_type": "text"
      },
      "source": [
        "## Clustering Digits\n",
        "\n",
        "Let's take a look at applying *k*-means on the same simple digits data.\n",
        "\n",
        "Here we will attempt to use *k*-means to try to identify similar digits *without using the original label information*; this might be similar to a first step in extracting meaning from a new dataset about which you don't have any *a priori* label information.\n",
        "\n",
        "We will start by loading the digits and then finding the ``KMeans`` clusters.\n",
        "Recall that the digits consist of 1,797 samples with 64 features, where each of the 64 features is the brightness of one pixel in an 8×8 image:"
      ]
    },
    {
      "cell_type": "code",
      "metadata": {
        "id": "pA3xQsP9WyJq",
        "colab_type": "code",
        "colab": {
          "base_uri": "https://localhost:8080/",
          "height": 119
        },
        "outputId": "9b55444f-5cd9-4e27-9079-df2819c0bd07"
      },
      "source": [
        "from sklearn.datasets import load_digits\n",
        "digits = load_digits()\n",
        "print(digits.data.shape)\n",
        "print(digits.data[0, :])\n",
        "digits.target"
      ],
      "execution_count": null,
      "outputs": [
        {
          "output_type": "stream",
          "text": [
            "(1797, 64)\n",
            "[ 0.  0.  5. 13.  9.  1.  0.  0.  0.  0. 13. 15. 10. 15.  5.  0.  0.  3.\n",
            " 15.  2.  0. 11.  8.  0.  0.  4. 12.  0.  0.  8.  8.  0.  0.  5.  8.  0.\n",
            "  0.  9.  8.  0.  0.  4. 11.  0.  1. 12.  7.  0.  0.  2. 14.  5. 10. 12.\n",
            "  0.  0.  0.  0.  6. 13. 10.  0.  0.  0.]\n"
          ],
          "name": "stdout"
        },
        {
          "output_type": "execute_result",
          "data": {
            "text/plain": [
              "array([0, 1, 2, ..., 8, 9, 8])"
            ]
          },
          "metadata": {
            "tags": []
          },
          "execution_count": 6
        }
      ]
    },
    {
      "cell_type": "markdown",
      "metadata": {
        "id": "RoMVNxZcWyJt",
        "colab_type": "text"
      },
      "source": [
        "**TODO: Perform K-means with the number of clusters of 10.**"
      ]
    },
    {
      "cell_type": "code",
      "metadata": {
        "id": "CUVw8DC2WyJu",
        "colab_type": "code",
        "colab": {}
      },
      "source": [
        "# TODO\n"
      ],
      "execution_count": null,
      "outputs": []
    },
    {
      "cell_type": "markdown",
      "metadata": {
        "id": "57OYMCLsWyJw",
        "colab_type": "text"
      },
      "source": [
        "The result is 10 clusters in 64 dimensions. Notice that the cluster centers themselves are 64-dimensional points, and can themselves be interpreted as the \"typical\" digit within the cluster. Let's see what these cluster centers look like:"
      ]
    },
    {
      "cell_type": "code",
      "metadata": {
        "id": "-FJQmMCbWyJx",
        "colab_type": "code",
        "colab": {
          "base_uri": "https://localhost:8080/",
          "height": 432
        },
        "outputId": "a0769a3e-fecf-4dac-969b-4d98972ae7ff"
      },
      "source": [
        "fig, ax = plt.subplots(2, 5, figsize=(8, 3))\n",
        "centers = kmeans.cluster_centers_.reshape(10, 8, 8)\n",
        "for axi, center in zip(ax.flat, centers):\n",
        "    axi.set(xticks=[], yticks=[])\n",
        "    axi.imshow(center, interpolation='nearest', cmap=plt.cm.binary)"
      ],
      "execution_count": null,
      "outputs": [
        {
          "output_type": "error",
          "ename": "NameError",
          "evalue": "ignored",
          "traceback": [
            "\u001b[0;31m---------------------------------------------------------------------------\u001b[0m",
            "\u001b[0;31mNameError\u001b[0m                                 Traceback (most recent call last)",
            "\u001b[0;32m<ipython-input-7-3e26802614a2>\u001b[0m in \u001b[0;36m<module>\u001b[0;34m()\u001b[0m\n\u001b[1;32m      1\u001b[0m \u001b[0mfig\u001b[0m\u001b[0;34m,\u001b[0m \u001b[0max\u001b[0m \u001b[0;34m=\u001b[0m \u001b[0mplt\u001b[0m\u001b[0;34m.\u001b[0m\u001b[0msubplots\u001b[0m\u001b[0;34m(\u001b[0m\u001b[0;36m2\u001b[0m\u001b[0;34m,\u001b[0m \u001b[0;36m5\u001b[0m\u001b[0;34m,\u001b[0m \u001b[0mfigsize\u001b[0m\u001b[0;34m=\u001b[0m\u001b[0;34m(\u001b[0m\u001b[0;36m8\u001b[0m\u001b[0;34m,\u001b[0m \u001b[0;36m3\u001b[0m\u001b[0;34m)\u001b[0m\u001b[0;34m)\u001b[0m\u001b[0;34m\u001b[0m\u001b[0;34m\u001b[0m\u001b[0m\n\u001b[0;32m----> 2\u001b[0;31m \u001b[0mcenters\u001b[0m \u001b[0;34m=\u001b[0m \u001b[0mkmeans\u001b[0m\u001b[0;34m.\u001b[0m\u001b[0mcluster_centers_\u001b[0m\u001b[0;34m.\u001b[0m\u001b[0mreshape\u001b[0m\u001b[0;34m(\u001b[0m\u001b[0;36m10\u001b[0m\u001b[0;34m,\u001b[0m \u001b[0;36m8\u001b[0m\u001b[0;34m,\u001b[0m \u001b[0;36m8\u001b[0m\u001b[0;34m)\u001b[0m\u001b[0;34m\u001b[0m\u001b[0;34m\u001b[0m\u001b[0m\n\u001b[0m\u001b[1;32m      3\u001b[0m \u001b[0;32mfor\u001b[0m \u001b[0maxi\u001b[0m\u001b[0;34m,\u001b[0m \u001b[0mcenter\u001b[0m \u001b[0;32min\u001b[0m \u001b[0mzip\u001b[0m\u001b[0;34m(\u001b[0m\u001b[0max\u001b[0m\u001b[0;34m.\u001b[0m\u001b[0mflat\u001b[0m\u001b[0;34m,\u001b[0m \u001b[0mcenters\u001b[0m\u001b[0;34m)\u001b[0m\u001b[0;34m:\u001b[0m\u001b[0;34m\u001b[0m\u001b[0;34m\u001b[0m\u001b[0m\n\u001b[1;32m      4\u001b[0m     \u001b[0maxi\u001b[0m\u001b[0;34m.\u001b[0m\u001b[0mset\u001b[0m\u001b[0;34m(\u001b[0m\u001b[0mxticks\u001b[0m\u001b[0;34m=\u001b[0m\u001b[0;34m[\u001b[0m\u001b[0;34m]\u001b[0m\u001b[0;34m,\u001b[0m \u001b[0myticks\u001b[0m\u001b[0;34m=\u001b[0m\u001b[0;34m[\u001b[0m\u001b[0;34m]\u001b[0m\u001b[0;34m)\u001b[0m\u001b[0;34m\u001b[0m\u001b[0;34m\u001b[0m\u001b[0m\n\u001b[1;32m      5\u001b[0m     \u001b[0maxi\u001b[0m\u001b[0;34m.\u001b[0m\u001b[0mimshow\u001b[0m\u001b[0;34m(\u001b[0m\u001b[0mcenter\u001b[0m\u001b[0;34m,\u001b[0m \u001b[0minterpolation\u001b[0m\u001b[0;34m=\u001b[0m\u001b[0;34m'nearest'\u001b[0m\u001b[0;34m,\u001b[0m \u001b[0mcmap\u001b[0m\u001b[0;34m=\u001b[0m\u001b[0mplt\u001b[0m\u001b[0;34m.\u001b[0m\u001b[0mcm\u001b[0m\u001b[0;34m.\u001b[0m\u001b[0mbinary\u001b[0m\u001b[0;34m)\u001b[0m\u001b[0;34m\u001b[0m\u001b[0;34m\u001b[0m\u001b[0m\n",
            "\u001b[0;31mNameError\u001b[0m: name 'kmeans' is not defined"
          ]
        },
        {
          "output_type": "display_data",
          "data": {
            "image/png": "[encoded data removed]",
            "text/plain": [
              "<Figure size 576x216 with 10 Axes>"
            ]
          },
          "metadata": {
            "tags": []
          }
        }
      ]
    },
    {
      "cell_type": "markdown",
      "metadata": {
        "id": "1pCKKAhoWyJ0",
        "colab_type": "text"
      },
      "source": [
        "We see that even without the labels, KMeans is able to find clusters whose centers are recognizable digits, with perhaps the exception of 1 and 8.\n",
        "\n",
        "Because k-means knows nothing about the identity of the cluster, the 0–9 labels may be permuted. We can fix this by matching each learned cluster label with the true labels found in them:"
      ]
    },
    {
      "cell_type": "code",
      "metadata": {
        "id": "7CQpnKYiWyJ0",
        "colab_type": "code",
        "colab": {}
      },
      "source": [
        "from scipy.stats import mode\n",
        "\n",
        "clusters = y_kmeans\n",
        "labels = np.zeros_like(clusters)\n",
        "for i in range(10):\n",
        "    mask = (clusters == i)\n",
        "    labels[mask] = mode(digits.target[mask])[0]"
      ],
      "execution_count": null,
      "outputs": []
    },
    {
      "cell_type": "markdown",
      "metadata": {
        "id": "5uTNMvvcWyJ3",
        "colab_type": "text"
      },
      "source": [
        "Now we can check how accurate our unsupervised clustering was in finding similar digits within the data:\n",
        "\n",
        "**TODO: calculate the accuracy and generate the heatmap by comparing to the ground truth.**"
      ]
    },
    {
      "cell_type": "code",
      "metadata": {
        "id": "t9tEl8J8WyJ3",
        "colab_type": "code",
        "colab": {}
      },
      "source": [
        "from sklearn.metrics import accuracy_score\n",
        "\n",
        "# TODO"
      ],
      "execution_count": null,
      "outputs": []
    },
    {
      "cell_type": "code",
      "metadata": {
        "id": "WLpc6cNoWyJ6",
        "colab_type": "code",
        "colab": {}
      },
      "source": [
        "from sklearn.metrics import confusion_matrix\n",
        "\n",
        "mat = confusion_matrix(digits.target, labels)\n",
        "sns.heatmap(mat.T, square=True, annot=True, fmt='d', cbar=False, \n",
        "            xticklabels=digits.target_names, \n",
        "            yticklabels=digits.target_names\n",
        "           )\n",
        "plt.xlabel('true label')\n",
        "plt.ylabel('predicted label')"
      ],
      "execution_count": null,
      "outputs": []
    },
    {
      "cell_type": "markdown",
      "metadata": {
        "id": "6zOM4hwqWyJ8",
        "colab_type": "text"
      },
      "source": [
        "As we might expect from the cluster centers we visualized before, the main point of confusion is between the eights and ones.\n",
        "But this still shows that using *k*-means, we can essentially build a digit classifier *without reference to any known labels*!\n"
      ]
    },
    {
      "cell_type": "markdown",
      "metadata": {
        "id": "LP4iXepwWyJ9",
        "colab_type": "text"
      },
      "source": [
        "## *k*-means for color compression\n",
        "\n",
        "One interesting application of clustering is in color compression within images.\n",
        "For example, imagine you have an image with millions of colors.\n",
        "In most images, a large number of the colors will be unused, and many of the pixels in the image will have similar or even identical colors."
      ]
    },
    {
      "cell_type": "code",
      "metadata": {
        "id": "Znaw4zhcWyJ-",
        "colab_type": "code",
        "colab": {}
      },
      "source": [
        "from sklearn.datasets import load_sample_image\n",
        "china = load_sample_image(\"china.jpg\")\n",
        "print(china.shape)\n",
        "ax = plt.axes(xticks=[], yticks=[])\n",
        "ax.imshow(china)"
      ],
      "execution_count": null,
      "outputs": []
    },
    {
      "cell_type": "code",
      "metadata": {
        "id": "gFjKA4zoWyKA",
        "colab_type": "code",
        "colab": {}
      },
      "source": [
        "data = china / 255.0 # use 0...1 scale\n",
        "data = data.reshape(427 * 640, 3)\n",
        "data.shape"
      ],
      "execution_count": null,
      "outputs": []
    },
    {
      "cell_type": "code",
      "metadata": {
        "id": "VfGj4Ck0WyKC",
        "colab_type": "code",
        "colab": {}
      },
      "source": [
        "def plot_pixels(data, title, colors=None, N=10000):\n",
        "    if colors is None:\n",
        "        colors = data\n",
        "    \n",
        "    # choose a random subset\n",
        "    rng = np.random.RandomState(0)\n",
        "    i = rng.permutation(data.shape[0])[:N]\n",
        "    colors = colors[i]\n",
        "    R, G, B = data[i].T\n",
        "    \n",
        "    fig, ax = plt.subplots(1, 2, figsize=(16, 6))\n",
        "    ax[0].scatter(R, G, color=colors, marker='.')\n",
        "    ax[0].set(xlabel='Red', ylabel='Green', xlim=(0, 1), ylim=(0, 1))\n",
        "\n",
        "    ax[1].scatter(R, B, color=colors, marker='.')\n",
        "    ax[1].set(xlabel='Red', ylabel='Blue', xlim=(0, 1), ylim=(0, 1))\n",
        "\n",
        "    fig.suptitle(title, size=20)"
      ],
      "execution_count": null,
      "outputs": []
    },
    {
      "cell_type": "code",
      "metadata": {
        "scrolled": true,
        "id": "1ML6_XsZWyKE",
        "colab_type": "code",
        "colab": {}
      },
      "source": [
        "plot_pixels(data, title='Input color space: 16 million possible colors')"
      ],
      "execution_count": null,
      "outputs": []
    },
    {
      "cell_type": "markdown",
      "metadata": {
        "id": "aTxZsV1BWyKG",
        "colab_type": "text"
      },
      "source": [
        "Now let's reduce these 16 million colors to just 16 colors, using a k-means clustering across the pixel space. Because we are dealing with a very large dataset, we will use the mini batch k-means, which operates on subsets of the data to compute the result much more quickly than the standard k-means algorithm:\n",
        "\n",
        "** TODO: Use [MiniBatchKMeans](https://scikit-learn.org/stable/modules/generated/sklearn.cluster.MiniBatchKMeans.html) API to apply mini K-means to this image data.**"
      ]
    },
    {
      "cell_type": "code",
      "metadata": {
        "scrolled": true,
        "id": "-M3OfORuWyKH",
        "colab_type": "code",
        "colab": {}
      },
      "source": [
        "import warnings; warnings.simplefilter('ignore')  # Fix NumPy issues.\n",
        "\n",
        "from sklearn.cluster import MiniBatchKMeans\n",
        "\n",
        "# TODO"
      ],
      "execution_count": null,
      "outputs": []
    },
    {
      "cell_type": "markdown",
      "metadata": {
        "id": "omBgTObiWyKJ",
        "colab_type": "text"
      },
      "source": [
        "The result is a re-coloring of the original pixels, where each pixel is assigned the color of its closest cluster center. Plotting these new colors in the image space rather than the pixel space shows us the effect of this:"
      ]
    },
    {
      "cell_type": "code",
      "metadata": {
        "id": "WbC85QQrWyKK",
        "colab_type": "code",
        "colab": {}
      },
      "source": [
        "china_recolored = new_colors.reshape(china.shape)\n",
        "\n",
        "fig, ax = plt.subplots(1, 2, figsize=(16, 6), subplot_kw=dict(xticks=[], yticks=[]))\n",
        "fig.subplots_adjust(wspace=0.05)\n",
        "ax[0].imshow(china)\n",
        "ax[0].set_title('Original Image', size=16)\n",
        "ax[1].imshow(china_recolored)\n",
        "ax[1].set_title('16-color Image', size=16);"
      ],
      "execution_count": null,
      "outputs": []
    },
    {
      "cell_type": "markdown",
      "metadata": {
        "id": "s-osar92WyKM",
        "colab_type": "text"
      },
      "source": [
        "Some detail is certainly lost in the rightmost panel, but the overall image is still easily recognizable.\n",
        "This image on the right achieves a compression factor of around 1 million!\n",
        "While this is an interesting application of *k*-means, there are certainly better way to compress information in images.\n",
        "But the example shows the power of thinking outside of the box with unsupervised methods like *k*-means."
      ]
    }
  ]
}